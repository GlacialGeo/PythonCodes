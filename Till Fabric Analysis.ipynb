{
 "cells": [
  {
   "cell_type": "code",
   "execution_count": null,
   "metadata": {},
   "outputs": [],
   "source": [
    "import os\n",
    "import glob\n",
    "import numpy as np\n",
    "import pandas as pd\n",
    "import matplotlib.pyplot as plt\n",
    "import mplstereonet               #stereonet package \n",
    "import ternary as te              #python-ternary diagram package\n",
    "from numpy.linalg import eigh\n",
    "from matplotlib.backends.backend_pdf import PdfPages #This is to generate a multipage pdf for all the figures"
   ]
  },
  {
   "cell_type": "code",
   "execution_count": null,
   "metadata": {},
   "outputs": [],
   "source": [
    "os.chdir(r'C:\\specify_PATH_to_Folder')   #This is choose the folder containing one or more csv files to work with"
   ]
  },
  {
   "cell_type": "code",
   "execution_count": null,
   "metadata": {},
   "outputs": [],
   "source": [
    "pwd  #This is to check the path"
   ]
  },
  {
   "cell_type": "code",
   "execution_count": null,
   "metadata": {},
   "outputs": [],
   "source": [
    "os.listdir()  #List all the files in the chosen folder"
   ]
  },
  {
   "cell_type": "code",
   "execution_count": null,
   "metadata": {},
   "outputs": [],
   "source": [
    "filelist=glob.glob('*.csv') #creates a list of all csv files"
   ]
  },
  {
   "cell_type": "code",
   "execution_count": null,
   "metadata": {},
   "outputs": [],
   "source": [
    "print(filelist)"
   ]
  },
  {
   "cell_type": "code",
   "execution_count": null,
   "metadata": {},
   "outputs": [],
   "source": [
    "value=filelist[0]   #This is to show that a list can be sliced by index\n",
    "print(value)"
   ]
  },
  {
   "cell_type": "code",
   "execution_count": null,
   "metadata": {},
   "outputs": [],
   "source": [
    "print(value[:-4]) #And this shows that the string of filename can also be sliced. This will be useful for labels on figures and output filenames"
   ]
  },
  {
   "cell_type": "markdown",
   "metadata": {},
   "source": [
    "## 1.0 Data"
   ]
  },
  {
   "cell_type": "code",
   "execution_count": null,
   "metadata": {},
   "outputs": [],
   "source": [
    "#Select the csv file to work with. Index 0 is the first file in the list\n",
    "\n",
    "index=int(input(\"What is the index nb of the file?\"))  #This ensures that the index value is treated as an integer (not a string)\n",
    "\n",
    "\n"
   ]
  },
  {
   "cell_type": "code",
   "execution_count": null,
   "metadata": {},
   "outputs": [],
   "source": [
    "df=[pd.read_csv(file) for file in filelist][index]   #This will read the chosen csv file"
   ]
  },
  {
   "cell_type": "code",
   "execution_count": null,
   "metadata": {},
   "outputs": [],
   "source": [
    "df"
   ]
  },
  {
   "cell_type": "code",
   "execution_count": null,
   "metadata": {},
   "outputs": [],
   "source": [
    "#Create an array from the 'trend' column of the dataframe and display horizontally (one line)\n",
    "Trend=df.loc[:,'Trend']\n",
    "Trend=np.hstack(Trend)"
   ]
  },
  {
   "cell_type": "code",
   "execution_count": null,
   "metadata": {},
   "outputs": [],
   "source": [
    "#Do the same for the plunge data\n",
    "\n",
    "Plunge=df.loc[:,'Plunge']\n",
    "Plunge=np.hstack(Plunge)"
   ]
  },
  {
   "cell_type": "markdown",
   "metadata": {},
   "source": [
    "## 2.0 Data projections"
   ]
  },
  {
   "cell_type": "code",
   "execution_count": null,
   "metadata": {},
   "outputs": [],
   "source": [
    "#Let's prepare the data to build a rose diagram\n",
    "\n",
    "#Calculate the number of directions (bins) every 10° using numpy.histogram.\n",
    "\n",
    "bin_edges = np.arange(-5, 366, 10)                              #numpy.arange(start, stop, step)\n",
    "trends_in_bins, bin_edges = np.histogram(Trend, bin_edges)"
   ]
  },
  {
   "cell_type": "code",
   "execution_count": null,
   "metadata": {},
   "outputs": [],
   "source": [
    "Trends=trends_in_bins[0:-1]                  #37 bins"
   ]
  },
  {
   "cell_type": "code",
   "execution_count": null,
   "metadata": {},
   "outputs": [],
   "source": [
    "#Initialize the pdf file that will contain all the figures\n",
    "pp = PdfPages(f'Figures_{filelist[index][:-4]}.pdf')\n",
    "\n",
    "\n",
    "#Create the rose diagram and the stereonets.\n",
    "\n",
    "fig = plt.figure(figsize=(12, 12))         #creates an empty figure with no Axes\n",
    "\n",
    "ax1 = fig.add_subplot(221, projection='stereonet')\n",
    "ax1.line(Plunge, Trend, 'o', color='blue')\n",
    "ax1.set_title(f'a-axis on stereonet from {filelist[index][:-4]}', y=1.10, fontsize=15)\n",
    "\n",
    "#Rose diagram\n",
    "ax2 = fig.add_subplot(222, projection='polar')\n",
    "ax2.set_title('a-axis on rose diagram', y=1.10, fontsize=15)\n",
    "\n",
    "ax2.bar(np.deg2rad(np.arange(0, 360, 10)), Trends, \n",
    "       width=np.deg2rad(10), bottom=0.0, color='.8', edgecolor='k')\n",
    "ax2.set_theta_zero_location('N')\n",
    "ax2.set_theta_direction(-1)\n",
    "ax2.set_thetagrids(np.arange(0, 360, 30), labels=np.arange(0, 360, 30))\n",
    "ax2.set_rgrids(np.arange(1, Trends.max() + 4, 3), angle=0, weight= 'black')\n",
    "\n",
    "ax3 = fig.add_subplot(223, projection='stereonet')\n",
    "ax3.line(Plunge, Trend, 'o', color='blue')\n",
    "m=ax3.density_contourf(Plunge, Trend, measurement='lines', cmap='Reds') #exponential_kamb is the default method\n",
    "ax3.set_title('with kamb density contours', y=1.05, fontsize=15)\n",
    "fig.colorbar(m) \n",
    "\n",
    "\n",
    "# Plot these things on the two stereonets\n",
    "for ax in [ax1, ax3]:\n",
    "    ax.grid()\n",
    "    ax.set_azimuth_ticks([]) #This is to hide the azimuth labels bc there is currently a problem with this in mplstereonet\n",
    "\n",
    "for ax in [ax1]:\n",
    "    note = f\"n={Plunge.size} \\nMean Plunge: {Plunge.mean():.1f}\"\n",
    "    ax.annotate(note, xy=(5*60, -30), xycoords='axes points')  \n",
    "\n",
    "plt.show()\n",
    "#option to save a figure separately fig.savefig(f'Stereonets_Rose_{filelist[index]}.svg', bbox_inches = 'tight', format='svg')\n",
    "pp.savefig(fig)  #This will save the figure in the multipage pdf\n"
   ]
  },
  {
   "cell_type": "markdown",
   "metadata": {},
   "source": [
    "## 3.0 Orientation tensors"
   ]
  },
  {
   "cell_type": "code",
   "execution_count": null,
   "metadata": {},
   "outputs": [],
   "source": [
    "#Calculate direction cosines...\n",
    "\n",
    "a=np.cos(Trend*np.pi/180)\n",
    "b=np.cos(Plunge*np.pi/180)     \n",
    "c=np.sin(Trend*np.pi/180)\n",
    "xi=(a*b).round(4) #first direction cosines.\n",
    "yi=(c*b).round(4) #second direction cosines\n",
    "zi=np.sin(Plunge*np.pi/180).round(4) #third direction cosines"
   ]
  },
  {
   "cell_type": "code",
   "execution_count": null,
   "metadata": {},
   "outputs": [],
   "source": [
    "X=np.concatenate((xi,yi,zi)).reshape(3,Trend.shape[0])    #Brings the three direction cosines (xi, yi, zi) together in a single 3XN array/matrix (N=nb# of measurements)"
   ]
  },
  {
   "cell_type": "code",
   "execution_count": null,
   "metadata": {},
   "outputs": [],
   "source": [
    "XT=X.T               #Transpose matrix X\n",
    "print(XT)"
   ]
  },
  {
   "cell_type": "code",
   "execution_count": null,
   "metadata": {},
   "outputs": [],
   "source": [
    "A=np.dot(X,XT).round(4)    #3X3 matrix of the sums of cross products of the direction cosines\n",
    "print(A)"
   ]
  },
  {
   "cell_type": "code",
   "execution_count": null,
   "metadata": {},
   "outputs": [],
   "source": [
    "#Get the eigenvalues and eigenvectors using mplstereonet\n",
    "\n",
    "plu, azi, vals = mplstereonet.eigenvectors(Plunge, Trend, measurement='lines') \n",
    "#This returns 1-D arrays for plunge and azimuth (eigenvectors converted to spherical coordinates), and normalized eigenvalues\n",
    "print(plu,azi,vals)"
   ]
  },
  {
   "cell_type": "code",
   "execution_count": null,
   "metadata": {},
   "outputs": [],
   "source": [
    "#Extract the normalized eigenvalues\n",
    "S1=vals[0].round(4)\n",
    "S2=vals[1].round(4)\n",
    "S3=vals[2].round(4)\n",
    "print(S1,S2,S3)\n",
    "#The eigenvalues are slightly different with mplstereonet than with Stereonet 11"
   ]
  },
  {
   "cell_type": "code",
   "execution_count": null,
   "metadata": {},
   "outputs": [],
   "source": [
    "Ei=eigh(A)  #This returns a 1-D array (eigenvalues) and a 2-D array (eigenvectors)"
   ]
  },
  {
   "cell_type": "code",
   "execution_count": null,
   "metadata": {},
   "outputs": [],
   "source": [
    "Eighv=Ei[0] #Extract the eigenvalues\n",
    "print(Eighv)"
   ]
  },
  {
   "cell_type": "code",
   "execution_count": null,
   "metadata": {},
   "outputs": [],
   "source": [
    "#The sum of eigenvalues equals to the nb# of measurements. \n",
    "#Normalized eigenvalues (divided by number of measurements) sum to 1.\n",
    "\n",
    "S1=Eighv[2]/Trend.shape\n",
    "S2=Eighv[1]/Trend.shape\n",
    "S3=Eighv[0]/Trend.shape\n",
    "print(S1, S2, S3)  \n",
    "#normalized eigenvalues; the values obtained with eigh are the same as those obtained using Stereonet 11"
   ]
  },
  {
   "cell_type": "code",
   "execution_count": null,
   "metadata": {},
   "outputs": [],
   "source": [
    "#Make a biplot of S3 and S1\n",
    "\n",
    "fig = plt.figure(figsize=(10,8))\n",
    "ax = fig.add_subplot(1,1,1) # row-col-num\n",
    "\n",
    "# Hide the right and top lines of the default box\n",
    "ax.spines['right'].set_visible(False)\n",
    "ax.spines['top'].set_visible(False)\n",
    "\n",
    "#ax.set_xlim((0.4, 1.0,))\n",
    "#ax.set_ylim((0.0, 0.3))\n",
    "\n",
    "xticks = np.arange(0.4, 1.0, 0.1).round(2)\n",
    "yticks = np.arange(0.0, 0.3, 0.05).round(2)\n",
    "\n",
    "xtickLocations=np.arange(0.4, 1.0, 0.1).round(2)\n",
    "yticklocations=np.arange(0.0, 0.3, 0.05).round(2)\n",
    "\n",
    "\n",
    "ax.scatter(S1,S3, c='green', s=100)\n",
    "ax.set_xlabel('S1', fontsize=18)\n",
    "ax.set_ylabel('S3', fontsize=18)\n",
    "ax.set_xticks(ticks=xtickLocations)\n",
    "ax.set_yticks(ticks=yticklocations)\n",
    "ax.set_xticklabels(xticks, fontsize=16)\n",
    "ax.set_yticklabels(yticks, fontsize=16)\n",
    "\n",
    "ax.grid(True, linestyle='--')\n",
    "plt.show()\n",
    "#fig.savefig(f'S3_S1plot_{filelist[index]}.svg', bbox_inches = 'tight', format='svg')\n",
    "pp.savefig(fig)"
   ]
  },
  {
   "cell_type": "code",
   "execution_count": null,
   "metadata": {},
   "outputs": [],
   "source": [
    "#Extract V1, V2, and V3\n",
    "V1_azi=azi[0]\n",
    "V1_azi=V1_azi.round(1)\n",
    "V1_plunge=plu[0]\n",
    "V1_plunge=V1_plunge.round(1)\n",
    "V2_azi=azi[1]\n",
    "V2_azi=V2_azi.round(1)\n",
    "V2_plunge=plu[1]\n",
    "V2_plunge=V2_plunge.round(1)\n",
    "V3_azi=azi[2]\n",
    "V3_azi=V3_azi.round(1)\n",
    "V3_plunge=plu[2]\n",
    "V3_plunge=V3_plunge.round(1)\n",
    "print(\"V1 is\", V1_plunge, \"\\u2192\", V1_azi)\n",
    "print(\"V2 is\", V2_plunge, \"\\u2192\", V2_azi)\n",
    "print(\"V3 is\", V3_plunge, \"\\u2192\", V3_azi)"
   ]
  },
  {
   "cell_type": "code",
   "execution_count": null,
   "metadata": {},
   "outputs": [],
   "source": [
    "E=(1-(S2/S1)).round(4)     #Elongation index"
   ]
  },
  {
   "cell_type": "code",
   "execution_count": null,
   "metadata": {},
   "outputs": [],
   "source": [
    "I=(S3/S1).round(4)        #Isotropy index"
   ]
  },
  {
   "cell_type": "code",
   "execution_count": null,
   "metadata": {},
   "outputs": [],
   "source": [
    "R=(1-(E+I)).round(4)    #A residual value to allow plotting the indices correctly on a ternary diagram"
   ]
  },
  {
   "cell_type": "code",
   "execution_count": null,
   "metadata": {},
   "outputs": [],
   "source": [
    "df=pd.DataFrame(columns=['V1_trend', 'V1_plunge', 'E','I', 'R'])"
   ]
  },
  {
   "cell_type": "code",
   "execution_count": null,
   "metadata": {},
   "outputs": [],
   "source": [
    "df.loc[0]=[V1_azi, V1_plunge, E,I,R]\n",
    "df"
   ]
  },
  {
   "cell_type": "code",
   "execution_count": null,
   "metadata": {},
   "outputs": [],
   "source": [
    "df[\"E\"]=df['E'].astype('float')      #To specify the Dtype is 'float'\n",
    "df[\"I\"]=df['I'].astype('float')\n",
    "df[\"R\"]=df['R'].astype('float')\n",
    "df.dtypes"
   ]
  },
  {
   "cell_type": "code",
   "execution_count": null,
   "metadata": {},
   "outputs": [],
   "source": [
    "df.info()"
   ]
  },
  {
   "cell_type": "code",
   "execution_count": null,
   "metadata": {},
   "outputs": [],
   "source": [
    "df"
   ]
  },
  {
   "cell_type": "code",
   "execution_count": null,
   "metadata": {},
   "outputs": [],
   "source": [
    "df.to_csv(f'Data_output_{filelist[index][:-4]}.csv', index=False)"
   ]
  },
  {
   "cell_type": "code",
   "execution_count": null,
   "metadata": {},
   "outputs": [],
   "source": [
    "#This will ask the user to classify the fabric modality\n",
    "\n",
    "Mod=input(\"What is the modality of the fabric? \")\n",
    "\n",
    "if Mod==\"un\" or Mod==\"su\" or Mod==\"bi\" or Mod==\"sb\" or Mod==\"mm\":\n",
    "    print(\"Thank you\")\n",
    "else:\n",
    "    print(\"This is not a valid answer\")\n"
   ]
  },
  {
   "cell_type": "code",
   "execution_count": null,
   "metadata": {},
   "outputs": [],
   "source": [
    "if Mod=='un':\n",
    "    Modal=0\n",
    "elif Mod=='su':\n",
    "    Modal=1\n",
    "elif Mod==\"bi\":\n",
    "    Modal=2\n",
    "elif Mod==\"sb\":\n",
    "    Modal=3\n",
    "elif Mod==\"mm\":\n",
    "    Modal=4"
   ]
  },
  {
   "cell_type": "code",
   "execution_count": null,
   "metadata": {},
   "outputs": [],
   "source": [
    "#Create the modality-isotropy plot\n",
    "\n",
    "fig = plt.figure(figsize=(12.5,8))\n",
    "ax = fig.add_subplot(1,1,1) # row-col-num\n",
    "\n",
    "ylocations=[0,1,2,3,4]\n",
    "labels=[\"un\", 'su', 'bi', 'sb', 'mm']\n",
    "\n",
    "# Hide the right and top lines of the default box\n",
    "ax.spines['right'].set_visible(False)\n",
    "ax.spines['top'].set_visible(False)\n",
    "\n",
    "#PLot the dots and assign ticks and labels\n",
    "ax.scatter(I, Modal, s=200)\n",
    "ax.set_yticks(ticks=ylocations)\n",
    "ax.set_yticklabels(labels, fontsize=18)\n",
    "\n",
    "xticks = [ 0, 0.1, 0.2, 0.3, 0.4 ]\n",
    "ax.set_xticks(xticks)\n",
    "ax.set_xticklabels(xticks, fontsize=18)\n",
    "\n",
    "plt.xlabel(r'S3/S1 (isotropy)', fontsize=16)\n",
    "plt.ylabel('Modality', fontsize=18)\n",
    "\n",
    "#Add the grid lines and show the plot\n",
    "ax.grid(True, linestyle='--')\n",
    "plt.show()\n",
    "#fig.savefig(f'Modality_IsotropyPlot_{filelist[index]}.svg', bbox_inches = 'tight', format='svg')\n",
    "pp.savefig(fig)"
   ]
  },
  {
   "cell_type": "code",
   "execution_count": null,
   "metadata": {},
   "outputs": [],
   "source": [
    "#Let's plot the results on a ternary diagram!\n",
    "\n",
    "scale = 1.0\n",
    "figure, fabric = te.figure(scale=scale)\n",
    "figure.set_size_inches(12,10)\n",
    "\n",
    "#PLot the data\n",
    "fabric.scatter(df[['E','I','R']].values, marker='D', color='green', label=\"Green Diamonds\")\n",
    "    \n",
    "# Draw Boundary and Gridlines\n",
    "fabric.boundary(linewidth=2.0)\n",
    "fabric.gridlines(color=\"blue\", multiple=0.2)\n",
    "    \n",
    "# Set Axis labels\n",
    "fontsize = 12\n",
    "offset = 0.2\n",
    "fabric.left_axis_label(\"I=S3/S1\", fontsize=fontsize, offset=0.2)\n",
    "fabric.right_axis_label(\"E=1-(S2/S1)\", fontsize=fontsize, offset=0.2)\n",
    "fabric.top_corner_label(\"Isotropic\", fontsize=fontsize, offset=0.25)\n",
    "fabric.right_corner_label(\"Cluster\", fontsize=fontsize, offset=-0.05)\n",
    "fabric.left_corner_label(\"Girdle\", fontsize=fontsize, offset=-0.05)\n",
    "\n",
    "#This is to configure the style of the axes and ticks and specify their orientation/sense\n",
    "fabric.ticks(axis='lbr', multiple=0.2, linewidth=1, offset=0.025, tick_formats=\"%.1f\", clockwise=True)\n",
    "fabric.get_axes().axis('off')\n",
    "fabric.clear_matplotlib_ticks()\n",
    "\n",
    "fabric.show()\n",
    "#fabric.savefig(f'Ternary_Diagram_{filelist[index]}.svg', bbox_inches = 'tight', format='svg')\n",
    "pp.savefig(figure)"
   ]
  },
  {
   "cell_type": "code",
   "execution_count": null,
   "metadata": {},
   "outputs": [],
   "source": [
    "#Now V1 can be added to the data points on the stereonet\n",
    "\n",
    "fig = plt.figure(figsize=(8,8))\n",
    "ax = fig.add_subplot(111, projection='stereonet')\n",
    "ax.line(Plunge, Trend, 'o', color='blue', label='a-axis')\n",
    "plunge=V1_plunge\n",
    "bearing=V1_azi\n",
    "ax.line(plunge, bearing, 'X', color='green', markersize=12, label=\"V1\")\n",
    "ax.set_title('a-axis on stereonet with V1', y=1.10, fontsize=15)\n",
    "\n",
    "\n",
    "#This is to display the legend in the upper right corner without overlapping the stereonet\n",
    "ax.legend(loc='upper right', bbox_to_anchor=(1.1, 1.1), fontsize=14)\n",
    "\n",
    "#This is another approach to remove duplicate labels in the legend\n",
    "#def legend_without_duplicate_labels(ax):\n",
    "    #handles, labels = ax.get_legend_handles_labels()\n",
    "    #unique = [(h, l) for i, (h, l) in enumerate(zip(handles, labels)) if l not in labels[:i]]\n",
    "    #ax.legend(*zip(*unique))\n",
    "    \n",
    "#Another approach to avoid repetition of labels in the legend:\n",
    "from collections import OrderedDict\n",
    "\n",
    "handles, labels = ax.get_legend_handles_labels()\n",
    "by_label = OrderedDict(zip(labels, handles))\n",
    "\n",
    "#This is to display the legend in the upper right corner without overlapping the stereonet\n",
    "ax.legend(by_label.values(), by_label.keys(), loc='upper right', bbox_to_anchor=(1.1, 1.1), fontsize=14)\n",
    "\n",
    "\n",
    "#Add some notes and values beside the plot\n",
    "note = f\"n={Plunge.size} \\nS1={S1} \\nV1 azimuth={V1_azi}\"\n",
    "ax.annotate(note, xy=(5*60, -30), xycoords='axes points')\n",
    "\n",
    "\n",
    "\n",
    "ax.grid()\n",
    "ax.set_azimuth_ticks([])\n",
    "plt.show()\n",
    "#fig.savefig(f'Stereonet_w_V1_{filelist[index]}.svg', bbox_inches = 'tight', format='svg')\n",
    "pp.savefig(fig)"
   ]
  },
  {
   "cell_type": "code",
   "execution_count": null,
   "metadata": {},
   "outputs": [],
   "source": [
    "pp.close()  #This is to close the pdf file"
   ]
  },
  {
   "cell_type": "code",
   "execution_count": null,
   "metadata": {
    "scrolled": true
   },
   "outputs": [],
   "source": [
    "#Output a proposed interpretation based on the above results and plots\n",
    "\n",
    "if Mod=='un' or Mod=='su' and S1>=0.7 and I<0.12:\n",
    "    print('Very strong till clast fabric; Can be used for paleo-ice flow')\n",
    "elif Mod=='bi' or Mod=='sb' and S1>=0.7 and I<0.2:\n",
    "    print(\"Strong or moderately strong till clast fabric; use for paleo-ice flow with caution\")\n",
    "elif Mod=='sb' and S1>0.55 and S1<0.7 and I>=0.12:\n",
    "    print(\"Moderate till clast fabric; interpret paleo-ice flow with great caution; check other data and local context\")\n",
    "elif S1<=0.55 and I>=0.12:\n",
    "    print(\"Weak till clast fabric; unreliable for paleo-ice flow\")\n",
    "else: print(\"Undefined; check data and plots\")\n"
   ]
  },
  {
   "cell_type": "code",
   "execution_count": null,
   "metadata": {},
   "outputs": [],
   "source": [
    "#This will save the interpretation output in a *.txt file\n",
    "\n",
    "with open(f\"Interpretation_{filelist[index][:-4]}.txt\", \"w\") as external_file:\n",
    "    if Mod=='un' or Mod=='su' and S1>=0.7 and I<0.12:\n",
    "        print('Very strong till clast fabric; Can be used for paleo-ice flow', file=external_file)\n",
    "    elif Mod=='bi' or Mod=='sb' and S1>=0.7 and I<0.2:\n",
    "        print(\"Strong or moderately strong till clast fabric; use for paleo-ice flow with caution\", file=external_file)\n",
    "    elif Mod=='sb' and S1>0.55 and S1<0.7 and I>=0.12:\n",
    "        print(\"Moderate till clast fabric; interpret paleo-ice flow with great caution; check other data and local context\", file=external_file)\n",
    "    elif S1<=0.55 and I>=0.12:\n",
    "        print(\"Weak till clast fabric; unreliable for paleo-ice flow\", file=external_file)\n",
    "    else: print(\"Undefined; check data and plots\")\n",
    "external_file.close()"
   ]
  },
  {
   "cell_type": "code",
   "execution_count": null,
   "metadata": {},
   "outputs": [],
   "source": [
    "if V1_azi>=0 and V1_azi<180:\n",
    "    Ice_Flow=(V1_azi+180).round()\n",
    "else: \n",
    "    Ice_Flow=(V1_azi-180).round()\n",
    "          "
   ]
  },
  {
   "cell_type": "code",
   "execution_count": null,
   "metadata": {},
   "outputs": [],
   "source": [
    "#Provide a paleo-ice flow direction based on V1 (if S1>0.57)\n",
    "\n",
    "if S1>0.57 and V1_plunge>2:\n",
    "    print('Paleo-ice flow was likely toward', Ice_Flow)\n",
    "elif S1>0.57 and V1_plunge<2:\n",
    "    print(\"Orientation likely reliable but V1 plunge too low; direction could be opposite; check local context\")\n",
    "else: \n",
    "    print(\"Paleo-ice flow direction is uncertain/unreliable\")"
   ]
  },
  {
   "cell_type": "code",
   "execution_count": null,
   "metadata": {},
   "outputs": [],
   "source": [
    "#This will add the ice flow interpretation to the same *.txt file as above, but on a different line\n",
    "\n",
    "with open(f\"Interpretation_{filelist[index][:-4]}.txt\", \"a+\") as external_file:\n",
    "    external_file.seek(0)          #This will go to the top/start of text\n",
    "    data = external_file.read()\n",
    "    if len(data) > 0 :\n",
    "        external_file.write(\"\\n\")\n",
    "    if S1>0.57 and V1_plunge>2:\n",
    "        external_file.write(f'Paleo-ice flow was likely toward {Ice_Flow}')\n",
    "    elif S1>0.57 and V1_plunge<2:\n",
    "        external_file.write(\"Orientation likely reliable but V1 plunge too low; direction could be opposite; check local context\")\n",
    "    else: \n",
    "        external_file.write(\"Paleo-ice flow direction is uncertain/unreliable\")"
   ]
  },
  {
   "cell_type": "code",
   "execution_count": null,
   "metadata": {},
   "outputs": [],
   "source": []
  }
 ],
 "metadata": {
  "celltoolbar": "Raw Cell Format",
  "kernelspec": {
   "display_name": "Python 3",
   "language": "python",
   "name": "python3"
  },
  "language_info": {
   "codemirror_mode": {
    "name": "ipython",
    "version": 3
   },
   "file_extension": ".py",
   "mimetype": "text/x-python",
   "name": "python",
   "nbconvert_exporter": "python",
   "pygments_lexer": "ipython3",
   "version": "3.7.10"
  }
 },
 "nbformat": 4,
 "nbformat_minor": 4
}
