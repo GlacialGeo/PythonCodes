{
 "cells": [
  {
   "cell_type": "code",
   "execution_count": null,
   "metadata": {},
   "outputs": [],
   "source": [
    "import os\n",
    "import glob2\n",
    "import numpy as np\n",
    "import pandas as pd\n",
    "import matplotlib.pyplot as plt\n",
    "import mplstereonet               #stereonet package \n",
    "import ternary as te              #python-ternary diagram package\n",
    "from numpy.linalg import eigh\n",
    "from matplotlib.backends.backend_pdf import PdfPages #This is to generate a multipage pdf for all the figures\n",
    "import requests\n",
    "import io"
   ]
  },
  {
   "cell_type": "markdown",
   "metadata": {},
   "source": [
    "# 1.0 Directory and file list"
   ]
  },
  {
   "cell_type": "code",
   "execution_count": null,
   "metadata": {},
   "outputs": [],
   "source": [
    "#Use this section if you are importing several csv files locally (from your computer)\n",
    "\n",
    "#For online repository downloads, go directly to section 2.1 below\n",
    "\n",
    "# os.chdir(r'C:\\path_to_file') #You can use this to change the directory"
   ]
  },
  {
   "cell_type": "code",
   "execution_count": null,
   "metadata": {},
   "outputs": [],
   "source": [
    "# pwd #This is to show the path to the files"
   ]
  },
  {
   "cell_type": "code",
   "execution_count": null,
   "metadata": {},
   "outputs": [],
   "source": [
    "# os.listdir() #This will show the list of files"
   ]
  },
  {
   "cell_type": "code",
   "execution_count": null,
   "metadata": {},
   "outputs": [],
   "source": [
    "# filelist=glob2.glob('*.csv') #To create a list of all the csv files"
   ]
  },
  {
   "cell_type": "code",
   "execution_count": null,
   "metadata": {},
   "outputs": [],
   "source": [
    "#This is to create an index of the file list\n",
    "\n",
    "# for index, file in enumerate(filelist):\n",
    "    # print(index, file)\n"
   ]
  },
  {
   "cell_type": "code",
   "execution_count": null,
   "metadata": {},
   "outputs": [],
   "source": [
    "# value=filelist[2]   #This is to show that a list can be sliced by index\n",
    "# print(value)"
   ]
  },
  {
   "cell_type": "code",
   "execution_count": null,
   "metadata": {},
   "outputs": [],
   "source": [
    "# print(value[:-4]) #This shows that the string of filename can also be sliced. This will be useful for labels on figures"
   ]
  },
  {
   "cell_type": "markdown",
   "metadata": {},
   "source": [
    "# 2.0 Import and read the data"
   ]
  },
  {
   "cell_type": "code",
   "execution_count": null,
   "metadata": {},
   "outputs": [],
   "source": [
    "#Import a csv file from the file list\n",
    "\n",
    "#index=int(input(\"What is the index nb of the file?\"))  \n",
    "\n",
    "#This ensures that the index value is treated as an integer (not a string)\n",
    "\n",
    "\n"
   ]
  },
  {
   "cell_type": "code",
   "execution_count": null,
   "metadata": {},
   "outputs": [],
   "source": [
    "#df=[pd.read_csv(file) for file in filelist][index]   #This will read the chosen csv file and create a Pandas dataframe"
   ]
  },
  {
   "cell_type": "code",
   "execution_count": null,
   "metadata": {},
   "outputs": [],
   "source": [
    "#df"
   ]
  },
  {
   "cell_type": "markdown",
   "metadata": {},
   "source": [
    "## 2.1 Download and read the data from an online repository"
   ]
  },
  {
   "cell_type": "code",
   "execution_count": null,
   "metadata": {},
   "outputs": [],
   "source": [
    "# Download a csv file from a public GitHub account\n",
    "\n",
    "url = \"https://raw.githubusercontent.com/GlacialGeo/PythonDemos/main/DATA/Fabric_Demo.csv\" # Make sure the url is the raw version of the file on GitHub\n",
    "download = requests.get(url).content\n",
    "\n",
    "# Read the downloaded content and create a pandas dataframe\n",
    "\n",
    "df = pd.read_csv(io.StringIO(download.decode('utf-8')))\n",
    "\n",
    "# Print out the first 5 rows of the dataframe\n",
    "\n",
    "df.head()"
   ]
  },
  {
   "cell_type": "markdown",
   "metadata": {},
   "source": [
    "# 3.0 Data projections"
   ]
  },
  {
   "cell_type": "code",
   "execution_count": null,
   "metadata": {},
   "outputs": [],
   "source": [
    "#Let's prepare the data to create stereonets and rose diagrams\n",
    "\n",
    "#Create an array from the 'trend' column of the dataframe and display horizontally (one line)\n",
    "Trend=df.loc[:,'Trend']\n",
    "Trend=np.hstack(Trend)\n",
    "\n",
    "#Do the same for the plunge data\n",
    "\n",
    "Plunge=df.loc[:,'Plunge']\n",
    "Plunge=np.hstack(Plunge)\n",
    "print(Trend)"
   ]
  },
  {
   "cell_type": "code",
   "execution_count": null,
   "metadata": {},
   "outputs": [],
   "source": [
    "Trend.shape"
   ]
  },
  {
   "cell_type": "code",
   "execution_count": null,
   "metadata": {},
   "outputs": [],
   "source": [
    "#This is to prepare the data to build a rose diagram\n",
    "\n",
    "#Calculate the number of directions (bins) every 10° using numpy.histogram.\n",
    "\n",
    "bin_edges = np.arange(-5, 366, 10)                #numpy.arange(start, stop, step)\n",
    "trends_in_bins, bin_edges = np.histogram(Trend, bin_edges)"
   ]
  },
  {
   "cell_type": "code",
   "execution_count": null,
   "metadata": {},
   "outputs": [],
   "source": [
    "Trends=trends_in_bins[0:-1]\n",
    "print(Trends)"
   ]
  },
  {
   "cell_type": "code",
   "execution_count": null,
   "metadata": {},
   "outputs": [],
   "source": [
    "#Initialize the pdf file that will contain all the figures\n",
    "#The name of the pdf file will be the same as the csv file name\n",
    "\n",
    "#pp = PdfPages(f'Figures_{filelist[index][:-4]}.pdf')\n",
    "#pp = PdfPages('FabricDemo.pdf')\n",
    "\n",
    "#Create the rose diagram and the stereonets.\n",
    "\n",
    "fig = plt.figure(figsize=(12, 12))         #creates an empty figure with no Axes\n",
    "\n",
    "#Stereonet\n",
    "ax1 = fig.add_subplot(221, projection='stereonet')\n",
    "ax1.line(Plunge, Trend, 'o', color='blue')\n",
    "ax1.set_title(f'a-axis on stereonet - Fabric Demo', y=1.10, fontsize=15)\n",
    "\n",
    "#Rose diagram\n",
    "ax2 = fig.add_subplot(222, projection='polar')\n",
    "ax2.set_title('a-axis on rose diagram', y=1.10, fontsize=15)\n",
    "\n",
    "ax2.bar(np.deg2rad(np.arange(0, 360, 10)), Trends, \n",
    "       width=np.deg2rad(10), bottom=0.0, color='.8', edgecolor='k')\n",
    "ax2.set_theta_zero_location('N')\n",
    "ax2.set_theta_direction(-1)\n",
    "ax2.set_thetagrids(np.arange(0, 360, 30), labels=np.arange(0, 360, 30))\n",
    "ax2.set_rgrids(np.arange(1, Trends.max() + 4, 3), angle=0, weight= 'black')\n",
    "\n",
    "#Stereonet with kamb density\n",
    "ax3 = fig.add_subplot(223, projection='stereonet')\n",
    "ax3.line(Plunge, Trend, 'o', color='blue')\n",
    "m=ax3.density_contourf(Plunge, Trend, measurement='lines', cmap='Reds') #exponential_kamb is the default method\n",
    "ax3.set_title('with kamb density contours', y=1.05, fontsize=15)\n",
    "fig.colorbar(m) \n",
    "\n",
    "\n",
    "#Specify a few things for some of the plots\n",
    "for ax in [ax1, ax3]:\n",
    "    ax.grid()\n",
    "    ax.set_azimuth_ticks([]) #This is to hide the azimuth labels (optional)\n",
    "\n",
    "for ax in [ax1]:\n",
    "    note = f\"n={Plunge.size} \\nMean Plunge: {Plunge.mean():.1f}\"\n",
    "    ax.annotate(note, xy=(5*60, -30), xycoords='axes points')  \n",
    "\n",
    "plt.show()\n",
    "fig.savefig('Fabric_Demo.png', bbox_inches = 'tight', format='png')\n",
    "#pp.savefig(fig)\n"
   ]
  },
  {
   "cell_type": "markdown",
   "metadata": {},
   "source": [
    "## 4.0 Fabric Analysis"
   ]
  },
  {
   "cell_type": "code",
   "execution_count": null,
   "metadata": {},
   "outputs": [],
   "source": [
    "#Get the eigenvalues and eigenvectors using mplstereonet\n",
    "\n",
    "plu, azi, vals = mplstereonet.eigenvectors(Plunge, Trend, measurement='lines') \n",
    "#This returns 1-D arrays for plunge and azimuth (eigenvectors converted to spherical coordinates), and normalized eigenvalues\n",
    "print(plu,azi,vals)"
   ]
  },
  {
   "cell_type": "code",
   "execution_count": null,
   "metadata": {},
   "outputs": [],
   "source": [
    "#Extract the normalized eigenvalues\n",
    "S1=vals[0].round(4)\n",
    "S2=vals[1].round(4)\n",
    "S3=vals[2].round(4)\n",
    "print(S1,S2,S3)\n",
    "#The eigenvalues are slightly different with mplstereonet than with other tools/softwares (e.g. Stereonet 11)"
   ]
  },
  {
   "cell_type": "code",
   "execution_count": null,
   "metadata": {},
   "outputs": [],
   "source": [
    "#So, let's try a different method to get those values\n",
    "\n",
    "#Calculate direction cosines...\n",
    "def get_dir_cosines(Trend, Plunge):\n",
    "    a=np.cos(Trend*np.pi/180)\n",
    "    b=np.cos(Plunge*np.pi/180)     \n",
    "    c=np.sin(Trend*np.pi/180)\n",
    "    x=(a*b).round(4) #first direction cosines.\n",
    "    y=(c*b).round(4) #second direction cosines\n",
    "    z=np.sin(Plunge*np.pi/180).round(4) #third direction cosines\n",
    "    return x, y, z\n",
    "\n",
    "#To bring the three direction cosines (x, y, z) together in a single (N,3) array (N=nb# of measurements):\n",
    "X=np.column_stack(get_dir_cosines(Trend, Plunge))\n",
    "print(X)"
   ]
  },
  {
   "cell_type": "code",
   "execution_count": null,
   "metadata": {},
   "outputs": [],
   "source": [
    "X.shape"
   ]
  },
  {
   "cell_type": "code",
   "execution_count": null,
   "metadata": {},
   "outputs": [],
   "source": [
    "XT=X.T      #Transpose matrix X (X')\n",
    "print(XT)"
   ]
  },
  {
   "cell_type": "code",
   "execution_count": null,
   "metadata": {},
   "outputs": [],
   "source": [
    "XT.shape"
   ]
  },
  {
   "cell_type": "code",
   "execution_count": null,
   "metadata": {},
   "outputs": [],
   "source": [
    "A=np.dot(XT,X).round(4) #This produces a 3X3 matrix (X'X) of the sums of squares and cross products (SSCP) of the direction cosines\n",
    "print(A)                   "
   ]
  },
  {
   "cell_type": "code",
   "execution_count": null,
   "metadata": {},
   "outputs": [],
   "source": [
    "#Using numpy...\n",
    "\n",
    "Ei=eigh(A)  #This returns a 1-D array (eigenvalues) and a 2-D array (eigenvectors)\n",
    "print(Ei)"
   ]
  },
  {
   "cell_type": "code",
   "execution_count": null,
   "metadata": {},
   "outputs": [],
   "source": [
    "#Extract the eigenvalues\n",
    "\n",
    "Eighv=Ei[0] \n",
    "print(Eighv)"
   ]
  },
  {
   "cell_type": "code",
   "execution_count": null,
   "metadata": {},
   "outputs": [],
   "source": [
    "#The sum of eigenvalues equals to the nb# of measurements. \n",
    "#Normalized eigenvalues (divided by number of measurements) sum to 1.\n",
    "\n",
    "S1=Eighv[2]/Trend.shape\n",
    "S2=Eighv[1]/Trend.shape\n",
    "S3=Eighv[0]/Trend.shape\n",
    "print(S1, S2, S3)  \n",
    "#normalized eigenvalues; the values obtained with 'eigh' are the same as those obtained using Stereonet 11"
   ]
  },
  {
   "cell_type": "code",
   "execution_count": null,
   "metadata": {},
   "outputs": [],
   "source": [
    "#Make a biplot of S3 and S1\n",
    "\n",
    "fig = plt.figure(figsize=(10,8))\n",
    "ax = fig.add_subplot(1,1,1) # row-col-num\n",
    "\n",
    "# Hide the right and top lines of the default box\n",
    "ax.spines['right'].set_visible(False)\n",
    "ax.spines['top'].set_visible(False)\n",
    "\n",
    "#ax.set_xlim((0.4, 1.0,))\n",
    "#ax.set_ylim((0.0, 0.3))\n",
    "\n",
    "xticks = np.arange(0.4, 1.0, 0.1).round(2)\n",
    "yticks = np.arange(0.0, 0.3, 0.05).round(2)\n",
    "\n",
    "xtickLocations=np.arange(0.4, 1.0, 0.1).round(2)\n",
    "yticklocations=np.arange(0.0, 0.3, 0.05).round(2)\n",
    "\n",
    "\n",
    "ax.scatter(S1,S3, c='green', s=100)\n",
    "ax.set_xlabel('S1', fontsize=18)\n",
    "ax.set_ylabel('S3', fontsize=18)\n",
    "ax.set_xticks(ticks=xtickLocations)\n",
    "ax.set_yticks(ticks=yticklocations)\n",
    "ax.set_xticklabels(xticks, fontsize=16)\n",
    "ax.set_yticklabels(yticks, fontsize=16)\n",
    "\n",
    "ax.grid(True, linestyle='--')\n",
    "plt.show()\n",
    "#fig.savefig(f'S3_S1plot_{filelist[index][:-4]}.png', bbox_inches = 'tight', format='png')\n",
    "pp.savefig(fig)"
   ]
  },
  {
   "cell_type": "code",
   "execution_count": null,
   "metadata": {},
   "outputs": [],
   "source": [
    "#Extract V1, V2, and V3\n",
    "\n",
    "V1_azi=azi[0].round(1)\n",
    "V1_plunge=plu[0].round(1)\n",
    "V2_azi=azi[1].round(1)\n",
    "V2_plunge=plu[1].round(1)\n",
    "V3_azi=azi[2].round(1)\n",
    "V3_plunge=plu[2].round(1)\n",
    "print(\"V1 is\", \"N\",V1_azi,\"/\",V1_plunge)\n",
    "print(\"V2 is\", \"N\",V2_azi,\"/\",V2_plunge)\n",
    "print(\"V3 is\", \"N\",V3_azi,\"/\",V3_plunge)"
   ]
  },
  {
   "cell_type": "code",
   "execution_count": null,
   "metadata": {},
   "outputs": [],
   "source": [
    "E=(1-(S2/S1)).round(4)     #Elongation index"
   ]
  },
  {
   "cell_type": "code",
   "execution_count": null,
   "metadata": {},
   "outputs": [],
   "source": [
    "I=(S3/S1).round(4)        #Isotropy index"
   ]
  },
  {
   "cell_type": "code",
   "execution_count": null,
   "metadata": {},
   "outputs": [],
   "source": [
    "R=(1-(E+I)).round(4)    #A residual value to allow plotting the indices correctly on a ternary diagram"
   ]
  },
  {
   "cell_type": "code",
   "execution_count": null,
   "metadata": {},
   "outputs": [],
   "source": [
    "df=pd.DataFrame(columns=['V1_trend', 'V1_plunge', 'E','I', 'R'])"
   ]
  },
  {
   "cell_type": "code",
   "execution_count": null,
   "metadata": {},
   "outputs": [],
   "source": [
    "df.loc[0]=[V1_azi, V1_plunge, E,I,R]\n",
    "df"
   ]
  },
  {
   "cell_type": "code",
   "execution_count": null,
   "metadata": {},
   "outputs": [],
   "source": [
    "df[\"E\"]=df['E'].astype('float')      #To specify the Dtype is 'float'\n",
    "df[\"I\"]=df['I'].astype('float')\n",
    "df[\"R\"]=df['R'].astype('float')\n",
    "df.dtypes"
   ]
  },
  {
   "cell_type": "code",
   "execution_count": null,
   "metadata": {},
   "outputs": [],
   "source": [
    "df.info()"
   ]
  },
  {
   "cell_type": "code",
   "execution_count": null,
   "metadata": {},
   "outputs": [],
   "source": [
    "df"
   ]
  },
  {
   "cell_type": "code",
   "execution_count": null,
   "metadata": {},
   "outputs": [],
   "source": [
    "#Export the Dataframe as a csv.\n",
    "\n",
    "#df.to_csv(f'Data_output_{filelist[index][:-4]}.csv', index=False)"
   ]
  },
  {
   "cell_type": "code",
   "execution_count": null,
   "metadata": {},
   "outputs": [],
   "source": [
    "#This function asks the user to classify the fabric modality and returns a value from 0 to 4 (to be used to plot modality)\n",
    "\n",
    "List=['un', 'su', 'bi', 'sb', 'mm']\n",
    "\n",
    "def modality():\n",
    "    print(List)\n",
    "    Mod=str(input(\"What is the modality of the fabric? \"))\n",
    "    if Mod=='un':\n",
    "        print(\"Thank you\")\n",
    "        return 0\n",
    "    elif Mod=='su':\n",
    "        print(\"Thank you\")\n",
    "        return 1\n",
    "    elif Mod=='bi':\n",
    "        print(\"Thank you\")\n",
    "        return 2\n",
    "    elif Mod=='sb':\n",
    "        print(\"Thank you\")\n",
    "        return 3\n",
    "    elif Mod=='mm':\n",
    "        print(\"Thank you\")\n",
    "        return 4\n",
    "    else:\n",
    "        print(\"This is not a valid modality\")\n",
    "\n",
    "Modal=modality()"
   ]
  },
  {
   "cell_type": "code",
   "execution_count": null,
   "metadata": {},
   "outputs": [],
   "source": [
    "#This is to create the modality-isotropy plot\n",
    "\n",
    "fig = plt.figure(figsize=(12.5,8))\n",
    "ax = fig.add_subplot(1,1,1) # row-col-num\n",
    "\n",
    "ylocations=[0,1,2,3,4]\n",
    "labels=[\"un\", 'su', 'bi', 'sb', 'mm']\n",
    "\n",
    "# Hide the right and top lines of the default box\n",
    "ax.spines['right'].set_visible(False)\n",
    "ax.spines['top'].set_visible(False)\n",
    "\n",
    "#PLot the dots and assign ticks and labels\n",
    "ax.scatter(I, Modal, s=200)\n",
    "ax.set_yticks(ticks=ylocations)\n",
    "ax.set_yticklabels(labels, fontsize=18)\n",
    "\n",
    "xticks = [ 0, 0.1, 0.2, 0.3, 0.4, 0.5, 0.6 ]\n",
    "ax.set_xticks(xticks)\n",
    "ax.set_xticklabels(xticks, fontsize=18)\n",
    "\n",
    "plt.xlabel(r'S3/S1 (isotropy)', fontsize=16)\n",
    "plt.ylabel('Modality', fontsize=18)\n",
    "\n",
    "#Add the grid lines and show the plot\n",
    "ax.grid(True, linestyle='--')\n",
    "plt.show()\n",
    "#fig.savefig(f'Modality_IsotropyPlot_{filelist[index][:-4]}.png', bbox_inches = 'tight', format='png')\n",
    "pp.savefig(fig)"
   ]
  },
  {
   "cell_type": "code",
   "execution_count": null,
   "metadata": {},
   "outputs": [],
   "source": [
    "#Let's plot the results on a ternary diagram!\n",
    "\n",
    "scale = 1.0\n",
    "figure, fabric = te.figure(scale=scale)\n",
    "figure.set_size_inches(12,10)\n",
    "\n",
    "#PLot the data\n",
    "fabric.scatter(df[['E','I','R']].values, marker='D', color='green', label=\"Green Diamonds\")\n",
    "    \n",
    "# Draw Boundary and Gridlines\n",
    "fabric.boundary(linewidth=2.0)\n",
    "fabric.gridlines(color=\"blue\", multiple=0.2)\n",
    "    \n",
    "# Set Axis labels\n",
    "fontsize = 12\n",
    "offset = 0.2\n",
    "fabric.left_axis_label(\"I=S3/S1\", fontsize=fontsize, offset=0.2)\n",
    "fabric.right_axis_label(\"E=1-(S2/S1)\", fontsize=fontsize, offset=0.2)\n",
    "fabric.top_corner_label(\"Isotropic\", fontsize=fontsize, offset=0.25)\n",
    "fabric.right_corner_label(\"Cluster\", fontsize=fontsize, offset=-0.05)\n",
    "fabric.left_corner_label(\"Girdle\", fontsize=fontsize, offset=-0.05)\n",
    "\n",
    "#This is to configure the style of the axes and ticks and specify their orientation/sense\n",
    "fabric.ticks(axis='lbr', multiple=0.2, linewidth=1, offset=0.025, tick_formats=\"%.1f\", clockwise=True)\n",
    "fabric.get_axes().axis('off')\n",
    "fabric.clear_matplotlib_ticks()\n",
    "\n",
    "fabric.show()\n",
    "#fabric.savefig(f'Ternary_Diagram_{filelist[index]}.svg', bbox_inches = 'tight', format='svg')\n",
    "pp.savefig(figure)"
   ]
  },
  {
   "cell_type": "code",
   "execution_count": null,
   "metadata": {},
   "outputs": [],
   "source": [
    "#Now V1 can be added to the data points on the stereonet\n",
    "\n",
    "fig = plt.figure(figsize=(8,8))\n",
    "ax = fig.add_subplot(111, projection='stereonet')\n",
    "ax.line(Plunge, Trend, 'o', color='blue', label='a-axis')\n",
    "plunge=V1_plunge\n",
    "bearing=V1_azi\n",
    "ax.line(plunge, bearing, 'X', color='green', markersize=12, label=\"V1\")\n",
    "ax.set_title('a-axis on stereonet with V1', y=1.10, fontsize=15)\n",
    "    \n",
    "#An approach to avoid repetition of labels in the legend:\n",
    "from collections import OrderedDict\n",
    "\n",
    "handles, labels = ax.get_legend_handles_labels()\n",
    "by_label = OrderedDict(zip(labels, handles))\n",
    "\n",
    "#This is to display the legend in the upper right corner without overlapping the stereonet\n",
    "ax.legend(by_label.values(), by_label.keys(), loc='upper right', bbox_to_anchor=(1.1, 1.1), fontsize=14)\n",
    "\n",
    "#This is another approach to remove duplicate labels in the legend\n",
    "#def legend_without_duplicate_labels(ax):\n",
    "    #handles, labels = ax.get_legend_handles_labels()\n",
    "    #unique = [(h, l) for i, (h, l) in enumerate(zip(handles, labels)) if l not in labels[:i]]\n",
    "    #ax.legend(*zip(*unique))\n",
    "\n",
    "\n",
    "#Add some notes and values beside the plot\n",
    "note = f\"n={Plunge.size} \\nS1={S1} \\nV1 azimuth={V1_azi}\"\n",
    "ax.annotate(note, xy=(5*60, -30), xycoords='axes points')\n",
    "\n",
    "\n",
    "ax.grid()\n",
    "ax._polar.set_position(ax.get_position()) #manually matches any size changes that have occurred in the parent axis\n",
    "plt.show()\n",
    "#fig.savefig(f'Stereonet_w_V1_{filelist[index]}.svg', bbox_inches = 'tight', format='svg')\n",
    "pp.savefig(fig)"
   ]
  },
  {
   "cell_type": "code",
   "execution_count": null,
   "metadata": {},
   "outputs": [],
   "source": [
    "pp.close()  #This is to close the pdf file"
   ]
  },
  {
   "cell_type": "code",
   "execution_count": null,
   "metadata": {
    "scrolled": true
   },
   "outputs": [],
   "source": [
    "#Output a proposed interpretation based on the above results and plots\n",
    "#It will also save the interpretation output in a *.txt file \n",
    "\n",
    "with open(f\"Interpretation_Demo.txt\", \"w\") as external_file:\n",
    "    if Modal<=2 and S1>=0.72 and I<0.12: #un or su and some bi\n",
    "        file_contents = external_file.write('Strong till clast fabric; Can be used for paleo-ice flow')\n",
    "    elif Modal>=2 and S1>=0.68 and S1<0.72 and I<=0.15:  #bi or sb\n",
    "        file_contents = external_file.write('Moderately strong till clast fabric; use for paleo-ice flow with caution')\n",
    "    elif Modal>=2 and S1>0.55 and S1<0.7 and I<0.2: #sb and maybe some bi\n",
    "        file_contents = external_file.write('Moderate till clast fabric; interpret paleo-ice flow with great caution; check other data and local context')\n",
    "    elif S1<=0.55 and I>=0.2: #mm\n",
    "        file_contents = external_file.write('Weak till clast fabric; unreliable for paleo-ice flow')\n",
    "    else:\n",
    "        file_contents = external_file.write('Undefined; check data and plots')"
   ]
  },
  {
   "cell_type": "code",
   "execution_count": null,
   "metadata": {},
   "outputs": [],
   "source": [
    "if V1_azi>=0 and V1_azi<180:\n",
    "    Ice_Flow=(V1_azi+180).round()\n",
    "else: \n",
    "    Ice_Flow=(V1_azi-180).round()\n",
    "          "
   ]
  },
  {
   "cell_type": "code",
   "execution_count": null,
   "metadata": {},
   "outputs": [],
   "source": [
    "#This will add the ice flow interpretation to the same *.txt file as above, but on a different line\n",
    "\n",
    "with open(f\"Interpretation_Demo.txt\", \"a+\") as external_file:\n",
    "    external_file.seek(0)          #This will go to the top/start of text\n",
    "    data = external_file.read()\n",
    "    if len(data) > 0 :\n",
    "        external_file.write(\"\\n\")\n",
    "    if S1>0.57 and V1_plunge>2:\n",
    "        external_file.write(f'Paleo-ice flow was likely toward {Ice_Flow}')\n",
    "    elif S1>0.57 and V1_plunge<2:\n",
    "        external_file.write(\"Orientation likely reliable but V1 plunge too low; direction could be opposite; check local context\")\n",
    "    else: \n",
    "        external_file.write(\"Paleo-ice flow direction is uncertain/unreliable\")"
   ]
  },
  {
   "cell_type": "code",
   "execution_count": null,
   "metadata": {},
   "outputs": [],
   "source": [
    "with open(f\"Interpretation_Demo.txt\", \"r\") as external_file:\n",
    "    print(external_file.read())"
   ]
  },
  {
   "cell_type": "code",
   "execution_count": null,
   "metadata": {},
   "outputs": [],
   "source": [
    "#import the csv containing the combined outputs\n",
    "#df2 = pd.read_csv(r'C:\\Users\\...\\Data_output_Fabrics_all.csv')\n",
    "#df2"
   ]
  },
  {
   "cell_type": "markdown",
   "metadata": {},
   "source": [
    "#Let's plot all the results on a ternary diagram!\n",
    "\n",
    "scale = 1\n",
    "figure, fabric = te.figure(scale=scale)\n",
    "figure.set_size_inches(12,10)\n",
    "\n",
    "#PLot the data\n",
    "fabric.scatter(df2[['E','I','R']].values, marker='o', c='blue', label='ALL')\n",
    "    \n",
    "# Draw Boundary and Gridlines\n",
    "fabric.boundary(linewidth=2.0)\n",
    "fabric.gridlines(color=\"blue\", multiple=0.2)\n",
    "    \n",
    "# Set Axis labels\n",
    "fontsize = 12\n",
    "offset = 0.2\n",
    "fabric.left_axis_label(\"I=S3/S1\", fontsize=fontsize, offset=0.2)\n",
    "fabric.right_axis_label(\"E=1-(S2/S1)\", fontsize=fontsize, offset=0.2)\n",
    "fabric.top_corner_label(\"Isotropic\", fontsize=fontsize, offset=0.25)\n",
    "fabric.right_corner_label(\"Cluster\", fontsize=fontsize, offset=-0.05)\n",
    "fabric.left_corner_label(\"Girdle\", fontsize=fontsize, offset=-0.05)\n",
    "\n",
    "#This is to configure the style of the axes and ticks and specify their orientation/sense, and add a legend\n",
    "#fabric.legend(title=\"Fabric nb\", fontsize=14)\n",
    "fabric.ticks(axis='lbr', multiple=0.2, linewidth=1, offset=0.025, tick_formats=\"%.1f\", clockwise=True)\n",
    "fabric.get_axes().axis('off')\n",
    "fabric.clear_matplotlib_ticks()\n",
    "\n",
    "fabric.show()\n",
    "fabric.savefig(f'Ternary_Diagram_all.png', bbox_inches = 'tight', format='png')\n",
    "#pp.savefig(figure)"
   ]
  },
  {
   "cell_type": "code",
   "execution_count": null,
   "metadata": {},
   "outputs": [],
   "source": []
  }
 ],
 "metadata": {
  "celltoolbar": "Raw Cell Format",
  "kernelspec": {
   "display_name": "Python 3 (ipykernel)",
   "language": "python",
   "name": "python3"
  },
  "language_info": {
   "codemirror_mode": {
    "name": "ipython",
    "version": 3
   },
   "file_extension": ".py",
   "mimetype": "text/x-python",
   "name": "python",
   "nbconvert_exporter": "python",
   "pygments_lexer": "ipython3",
   "version": "3.8.12"
  }
 },
 "nbformat": 4,
 "nbformat_minor": 4
}
