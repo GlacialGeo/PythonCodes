{
 "cells": [
  {
   "cell_type": "code",
   "execution_count": 1,
   "metadata": {},
   "outputs": [],
   "source": [
    "#bring the dependencies\n",
    "import pandas as pd\n",
    "import matplotlib.pyplot as plt\n",
    "import numpy as np"
   ]
  },
  {
   "cell_type": "code",
   "execution_count": 2,
   "metadata": {},
   "outputs": [],
   "source": [
    "#import a csv file containing grain size data\n",
    "df = pd.read_csv(r'C:\\Users\\iamma\\Documents\\Teaching\\Earth_333\\Labs\\2023\\A1.csv') #Specify the path to a *.csv file"
   ]
  },
  {
   "cell_type": "code",
   "execution_count": 3,
   "metadata": {},
   "outputs": [
    {
     "data": {
      "text/html": [
       "<div>\n",
       "<style scoped>\n",
       "    .dataframe tbody tr th:only-of-type {\n",
       "        vertical-align: middle;\n",
       "    }\n",
       "\n",
       "    .dataframe tbody tr th {\n",
       "        vertical-align: top;\n",
       "    }\n",
       "\n",
       "    .dataframe thead th {\n",
       "        text-align: right;\n",
       "    }\n",
       "</style>\n",
       "<table border=\"1\" class=\"dataframe\">\n",
       "  <thead>\n",
       "    <tr style=\"text-align: right;\">\n",
       "      <th></th>\n",
       "      <th>mm</th>\n",
       "      <th>phi</th>\n",
       "      <th>phi_mid</th>\n",
       "      <th>wt_of_sample</th>\n",
       "      <th>wt_freq</th>\n",
       "      <th>cumul_wt_freq</th>\n",
       "    </tr>\n",
       "  </thead>\n",
       "  <tbody>\n",
       "    <tr>\n",
       "      <th>0</th>\n",
       "      <td>2</td>\n",
       "      <td>-1.0</td>\n",
       "      <td>-1.50</td>\n",
       "      <td>0.000</td>\n",
       "      <td>0.0000</td>\n",
       "      <td>0.000</td>\n",
       "    </tr>\n",
       "    <tr>\n",
       "      <th>1</th>\n",
       "      <td>1</td>\n",
       "      <td>0.0</td>\n",
       "      <td>-0.50</td>\n",
       "      <td>0.000</td>\n",
       "      <td>0.0000</td>\n",
       "      <td>0.000</td>\n",
       "    </tr>\n",
       "    <tr>\n",
       "      <th>2</th>\n",
       "      <td>0.71</td>\n",
       "      <td>0.5</td>\n",
       "      <td>0.25</td>\n",
       "      <td>0.028</td>\n",
       "      <td>0.0150</td>\n",
       "      <td>0.016</td>\n",
       "    </tr>\n",
       "    <tr>\n",
       "      <th>3</th>\n",
       "      <td>0.5</td>\n",
       "      <td>1.0</td>\n",
       "      <td>0.75</td>\n",
       "      <td>0.055</td>\n",
       "      <td>0.0290</td>\n",
       "      <td>0.045</td>\n",
       "    </tr>\n",
       "    <tr>\n",
       "      <th>4</th>\n",
       "      <td>0.355</td>\n",
       "      <td>1.5</td>\n",
       "      <td>1.25</td>\n",
       "      <td>0.016</td>\n",
       "      <td>0.0080</td>\n",
       "      <td>0.053</td>\n",
       "    </tr>\n",
       "    <tr>\n",
       "      <th>5</th>\n",
       "      <td>0.25</td>\n",
       "      <td>2.0</td>\n",
       "      <td>1.75</td>\n",
       "      <td>3.927</td>\n",
       "      <td>2.0660</td>\n",
       "      <td>2.119</td>\n",
       "    </tr>\n",
       "    <tr>\n",
       "      <th>6</th>\n",
       "      <td>0.18</td>\n",
       "      <td>2.5</td>\n",
       "      <td>2.25</td>\n",
       "      <td>65.375</td>\n",
       "      <td>34.3890</td>\n",
       "      <td>36.508</td>\n",
       "    </tr>\n",
       "    <tr>\n",
       "      <th>7</th>\n",
       "      <td>0.125</td>\n",
       "      <td>3.0</td>\n",
       "      <td>2.75</td>\n",
       "      <td>110.266</td>\n",
       "      <td>58.0030</td>\n",
       "      <td>94.511</td>\n",
       "    </tr>\n",
       "    <tr>\n",
       "      <th>8</th>\n",
       "      <td>0.09</td>\n",
       "      <td>3.5</td>\n",
       "      <td>3.25</td>\n",
       "      <td>10.257</td>\n",
       "      <td>5.3950</td>\n",
       "      <td>99.907</td>\n",
       "    </tr>\n",
       "    <tr>\n",
       "      <th>9</th>\n",
       "      <td>0.063</td>\n",
       "      <td>4.0</td>\n",
       "      <td>3.75</td>\n",
       "      <td>0.151</td>\n",
       "      <td>0.0794</td>\n",
       "      <td>99.986</td>\n",
       "    </tr>\n",
       "    <tr>\n",
       "      <th>10</th>\n",
       "      <td>pan</td>\n",
       "      <td>4.5</td>\n",
       "      <td>4.25</td>\n",
       "      <td>0.026</td>\n",
       "      <td>0.0137</td>\n",
       "      <td>100.000</td>\n",
       "    </tr>\n",
       "  </tbody>\n",
       "</table>\n",
       "</div>"
      ],
      "text/plain": [
       "       mm  phi  phi_mid  wt_of_sample  wt_freq  cumul_wt_freq\n",
       "0       2 -1.0    -1.50         0.000   0.0000          0.000\n",
       "1       1  0.0    -0.50         0.000   0.0000          0.000\n",
       "2    0.71  0.5     0.25         0.028   0.0150          0.016\n",
       "3     0.5  1.0     0.75         0.055   0.0290          0.045\n",
       "4   0.355  1.5     1.25         0.016   0.0080          0.053\n",
       "5    0.25  2.0     1.75         3.927   2.0660          2.119\n",
       "6    0.18  2.5     2.25        65.375  34.3890         36.508\n",
       "7   0.125  3.0     2.75       110.266  58.0030         94.511\n",
       "8    0.09  3.5     3.25        10.257   5.3950         99.907\n",
       "9   0.063  4.0     3.75         0.151   0.0794         99.986\n",
       "10    pan  4.5     4.25         0.026   0.0137        100.000"
      ]
     },
     "execution_count": 3,
     "metadata": {},
     "output_type": "execute_result"
    }
   ],
   "source": [
    "#The file should contain columns for mm, phi, phi_mid, wt_freq, and cumul_wt_freq\n",
    "df.head(11)  "
   ]
  },
  {
   "cell_type": "code",
   "execution_count": 4,
   "metadata": {},
   "outputs": [
    {
     "data": {
      "image/png": "[encoded data removed]",
      "text/plain": [
       "<Figure size 576x432 with 1 Axes>"
      ]
     },
     "metadata": {
      "needs_background": "light"
     },
     "output_type": "display_data"
    },
    {
     "name": "stdout",
     "output_type": "stream",
     "text": [
      "[[-1.0000e+00  0.0000e+00]\n",
      " [ 0.0000e+00  0.0000e+00]\n",
      " [ 5.0000e-01  1.6000e-02]\n",
      " [ 1.0000e+00  4.5000e-02]\n",
      " [ 1.5000e+00  5.3000e-02]\n",
      " [ 2.0000e+00  2.1190e+00]\n",
      " [ 2.5000e+00  3.6508e+01]\n",
      " [ 3.0000e+00  9.4511e+01]\n",
      " [ 3.5000e+00  9.9907e+01]\n",
      " [ 4.0000e+00  9.9986e+01]\n",
      " [ 4.5000e+00  1.0000e+02]]\n"
     ]
    }
   ],
   "source": [
    "#Make a cumulative freq. graph of grain size using phi values for the x axis\n",
    "\n",
    "fig,ax = plt.subplots(figsize=(8, 6))\n",
    "\n",
    "x=df['phi'].values\n",
    "y=df['cumul_wt_freq'].values\n",
    "\n",
    "# Hide the right and top lines of the default box\n",
    "ax.spines['right'].set_visible(False)\n",
    "ax.spines['top'].set_visible(False)\n",
    "\n",
    "#PLot the dots and line and assign ticks and labels\n",
    "ax.plot(x,y, marker='o')\n",
    "\n",
    "#Create an array of the points along the line for calculations below\n",
    "line = plt.gca().lines[0].get_xydata()\n",
    "\n",
    "xticks = [ -1.0, 0.0, 0.5, 1.0, 1.5, 2.0, 2.5, 3.0, 3.5, 4.0, 4.5 ]\n",
    "xlbls = ['2mm \\n($\\phi$=-1)','1mm \\n($\\phi$= 0.0)', '0.71mm \\n($\\phi$= 0.5)', '0.5mm \\n($\\phi$= 1.0)', '0.35mm \\n($\\phi$= 1.5)', \n",
    "'0.25mm \\n($\\phi$= 2.0)', '0.180 \\n($\\phi$= 2.5)', '0.125mm \\n($\\phi$= 3.0)', '0.090 \\n($\\phi$= 3.5)', '0.063mm \\n($\\phi$= 4.0)', '<0.063mm \\n($\\phi$= >4.0)' ]\n",
    "ax.set_xticks(xticks)\n",
    "ax.set_xticklabels( xlbls )\n",
    "\n",
    "# vertical alignment of xtick labels\n",
    "va = [ 0, -.08, 0, -.08, 0, -.08, 0, -.08, 0, -0.08 ]\n",
    "for t, y in zip( ax.get_xticklabels( ), va ):\n",
    "    t.set_y( y )\n",
    "\n",
    "ax.set_xlabel('grain size', fontsize=16)\n",
    "ax.set_ylabel('Freq. (wt. %)', fontsize=16) #r'$\\alpha > \\beta$'\n",
    "\n",
    "#horizontal lines to visualize y values at different percentiles (5, 16, 50, 84, and 95)\n",
    "plt.axhline(y = 5, color = 'r', linestyle = 'dashed')\n",
    "plt.axhline(y = 16, color = 'r', linestyle = 'dashed')\n",
    "plt.axhline(y = 50, color = 'r', linestyle = 'dashed')\n",
    "plt.axhline(y = 84, color = 'r', linestyle = 'dashed')\n",
    "plt.axhline(y = 95, color = 'r', linestyle = 'dashed')\n",
    "\n",
    "#adding text inside the plot\n",
    "plt.text(-1, 6, '5th percentile', fontsize = 12)\n",
    "plt.text(-1, 17, '16th percentile', fontsize = 12)\n",
    "plt.text(-1, 51, '50th percentile', fontsize = 12)\n",
    "plt.text(-1, 85, '84th percentile', fontsize = 12)\n",
    "plt.text(-1, 96, '95th percentile', fontsize = 12)\n",
    "\n",
    "#Add the grid lines and show the plot\n",
    "ax.grid(True, linestyle='--')\n",
    "plt.show()\n",
    "print(line)\n",
    "\n",
    "#fig.savefig('cumFq.svg', bbox_inches = 'tight', format='svg')"
   ]
  },
  {
   "cell_type": "code",
   "execution_count": 5,
   "metadata": {},
   "outputs": [
    {
     "name": "stdout",
     "output_type": "stream",
     "text": [
      "2.04\n",
      "2.2\n",
      "2.62\n",
      "2.91\n",
      "3.05\n"
     ]
    }
   ],
   "source": [
    "#Extract the phi values at given cumul. freq. for calculations\n",
    "x=line[0:,0]\n",
    "y=line[0:,1]\n",
    "Phi_5p = np.interp(5, y, x).round(2)\n",
    "Phi_16p = np.interp(16, y, x).round(2)\n",
    "Phi_50p = np.interp(50, y, x).round(2)\n",
    "Phi_84p = np.interp(84, y, x).round(2)\n",
    "Phi_95p = np.interp(95, y, x).round(2)\n",
    "print(Phi_5p)\n",
    "print(Phi_16p)\n",
    "print(Phi_50p)\n",
    "print(Phi_84p)\n",
    "print(Phi_95p)"
   ]
  },
  {
   "cell_type": "code",
   "execution_count": 6,
   "metadata": {},
   "outputs": [
    {
     "name": "stdout",
     "output_type": "stream",
     "text": [
      "-0.17\n"
     ]
    }
   ],
   "source": [
    "#Skewness based on the linear interpolation above\n",
    "\n",
    "Skn=((Phi_84p+Phi_16p-(2*Phi_50p))/(2*(Phi_84p-Phi_16p)))+((Phi_95p+Phi_5p-(2*Phi_50p))/(2*(Phi_95p-Phi_5p)))\n",
    "\n",
    "\n",
    "print(Skn.round(2))"
   ]
  },
  {
   "cell_type": "code",
   "execution_count": 7,
   "metadata": {},
   "outputs": [
    {
     "name": "stdout",
     "output_type": "stream",
     "text": [
      "Coarse skewed\n"
     ]
    }
   ],
   "source": [
    "#Verbal Skewness\n",
    "if Skn >0.3:\n",
    "    print(\"Strongly fine-skewed\")\n",
    "elif Skn >=0.1:\n",
    "    print(\"Fine skewed\")\n",
    "elif Skn >=-0.1:\n",
    "    print(\"Near symmetrical\")\n",
    "elif Skn >=-0.3:\n",
    "    print(\"Coarse skewed\")\n",
    "else:\n",
    "    print(\"Strongly coarse skewed\")\n",
    "        "
   ]
  },
  {
   "cell_type": "code",
   "execution_count": 8,
   "metadata": {},
   "outputs": [
    {
     "name": "stdout",
     "output_type": "stream",
     "text": [
      "2.58\n"
     ]
    }
   ],
   "source": [
    "#Mean\n",
    "\n",
    "Mz=(Phi_16p+Phi_50p+Phi_84p)/3\n",
    "print(Mz.round(2))"
   ]
  },
  {
   "cell_type": "code",
   "execution_count": 9,
   "metadata": {},
   "outputs": [
    {
     "name": "stdout",
     "output_type": "stream",
     "text": [
      "0.33\n"
     ]
    }
   ],
   "source": [
    "#standard deviation\n",
    "\n",
    "SD=((Phi_84p-Phi_16p)/4)+((Phi_95p-Phi_5p)/6.6)\n",
    "print(SD.round(2))"
   ]
  },
  {
   "cell_type": "code",
   "execution_count": 10,
   "metadata": {},
   "outputs": [
    {
     "name": "stdout",
     "output_type": "stream",
     "text": [
      "very well sorted\n"
     ]
    }
   ],
   "source": [
    "#Verbal SD\n",
    "if SD >4.00:\n",
    "    print(\"extremely poorly sorted\")\n",
    "elif SD >=2.0:\n",
    "    print(\"very poorly sorted\")\n",
    "elif SD >=1.00:\n",
    "    print(\"poorly sorted\")\n",
    "elif SD >=0.71:\n",
    "    print(\"moderately sorted\")\n",
    "elif SD >=0.50:\n",
    "    print(\"moderately well sorted\")\n",
    "elif SD >=0.35:\n",
    "    print(\"well sorted\")\n",
    "else:\n",
    "    print(\"very well sorted\")"
   ]
  },
  {
   "cell_type": "code",
   "execution_count": 11,
   "metadata": {},
   "outputs": [
    {
     "data": {
      "image/png": "[encoded data removed]",
      "text/plain": [
       "<Figure size 800x600 with 1 Axes>"
      ]
     },
     "metadata": {},
     "output_type": "display_data"
    }
   ],
   "source": [
    "#to get the default black frame\n",
    "plt.style.use('default') \n",
    "fig,ax = plt.subplots(figsize=(8,6))\n",
    "# Hide the right and top spines\n",
    "ax.spines['right'].set_visible(False)\n",
    "ax.spines['top'].set_visible(False)\n",
    "x_mid=df['phi_mid'].values\n",
    "\n",
    "\n",
    "#Make the bar plot\n",
    "ax.bar(x_mid, df['wt_freq'], color=('b'),  alpha=0.5, edgecolor='black', linewidth=1.2, width=0.5)   #alpha is for transparency\n",
    "ax.set_xlabel(r'phi ($\\phi$)', fontsize=16)\n",
    "ax.set_ylabel('Freq. (wt. %)', fontsize=16)\n",
    "\n",
    "#Add the points\n",
    "ax.scatter(x_mid, df['wt_freq'], c='red', marker='o')\n",
    "\n",
    "\n",
    "plt.show()\n"
   ]
  },
  {
   "cell_type": "code",
   "execution_count": null,
   "metadata": {},
   "outputs": [],
   "source": []
  }
 ],
 "metadata": {
  "kernelspec": {
   "display_name": "Python 3 (ipykernel)",
   "language": "python",
   "name": "python3"
  },
  "language_info": {
   "codemirror_mode": {
    "name": "ipython",
    "version": 3
   },
   "file_extension": ".py",
   "mimetype": "text/x-python",
   "name": "python",
   "nbconvert_exporter": "python",
   "pygments_lexer": "ipython3",
   "version": "3.8.12"
  }
 },
 "nbformat": 4,
 "nbformat_minor": 4
}
