{
 "cells": [
  {
   "cell_type": "code",
   "execution_count": null,
   "metadata": {},
   "outputs": [],
   "source": [
    "#bring the dependencies\n",
    "import pandas as pd\n",
    "import matplotlib.pyplot as plt\n",
    "import numpy as np"
   ]
  },
  {
   "cell_type": "code",
   "execution_count": null,
   "metadata": {},
   "outputs": [],
   "source": [
    "#import a csv file containing grain size data\n",
    "df = pd.read_csv(r'C:\\path_to_file\\A1.csv') #Specify the path to a *.csv file"
   ]
  },
  {
   "cell_type": "code",
   "execution_count": null,
   "metadata": {},
   "outputs": [],
   "source": [
    "#The file should contain columns for mm, phi, phi_mid, wt_freq, and cumul_wt_freq\n",
    "df.head(11)  "
   ]
  },
  {
   "cell_type": "code",
   "execution_count": null,
   "metadata": {},
   "outputs": [],
   "source": [
    "#Make a cumulative freq. graph of grain size using phi values for the x axis\n",
    "\n",
    "fig,ax = plt.subplots(figsize=(8, 6))\n",
    "\n",
    "x=df['phi'].values\n",
    "y=df['cumul_wt_freq'].values\n",
    "\n",
    "# Hide the right and top lines of the default box\n",
    "ax.spines['right'].set_visible(False)\n",
    "ax.spines['top'].set_visible(False)\n",
    "\n",
    "#PLot the dots and line and assign ticks and labels\n",
    "ax.plot(x,y, marker='o')\n",
    "\n",
    "#Create an array of the points along the line for calculations below\n",
    "line = plt.gca().lines[0].get_xydata()\n",
    "\n",
    "xticks = [ -1.0, 0.0, 0.5, 1.0, 1.5, 2.0, 2.5, 3.0, 3.5, 4.0, 4.5 ]\n",
    "xlbls = ['2mm \\n($\\phi$=-1)','1mm \\n($\\phi$= 0.0)', '0.71mm \\n($\\phi$= 0.5)', '0.5mm \\n($\\phi$= 1.0)', '0.35mm \\n($\\phi$= 1.5)', \n",
    "'0.25mm \\n($\\phi$= 2.0)', '0.180 \\n($\\phi$= 2.5)', '0.125mm \\n($\\phi$= 3.0)', '0.090 \\n($\\phi$= 3.5)', '0.063mm \\n($\\phi$= 4.0)', '<0.063mm \\n($\\phi$= >4.0)' ]\n",
    "ax.set_xticks(xticks)\n",
    "ax.set_xticklabels( xlbls )\n",
    "\n",
    "# vertical alignment of xtick labels\n",
    "va = [ 0, -.08, 0, -.08, 0, -.08, 0, -.08, 0, -0.08 ]\n",
    "for t, y in zip( ax.get_xticklabels( ), va ):\n",
    "    t.set_y( y )\n",
    "\n",
    "ax.set_xlabel('grain size', fontsize=16)\n",
    "ax.set_ylabel('Freq. (wt. %)', fontsize=16) #r'$\\alpha > \\beta$'\n",
    "\n",
    "#horizontal lines to visualize y values at different percentiles (5, 16, 50, 84, and 95)\n",
    "plt.axhline(y = 5, color = 'r', linestyle = 'dashed')\n",
    "plt.axhline(y = 16, color = 'r', linestyle = 'dashed')\n",
    "plt.axhline(y = 50, color = 'r', linestyle = 'dashed')\n",
    "plt.axhline(y = 84, color = 'r', linestyle = 'dashed')\n",
    "plt.axhline(y = 95, color = 'r', linestyle = 'dashed')\n",
    "\n",
    "#adding text inside the plot\n",
    "plt.text(-1, 6, '5th percentile', fontsize = 12)\n",
    "plt.text(-1, 17, '16th percentile', fontsize = 12)\n",
    "plt.text(-1, 51, '50th percentile', fontsize = 12)\n",
    "plt.text(-1, 85, '84th percentile', fontsize = 12)\n",
    "plt.text(-1, 96, '95th percentile', fontsize = 12)\n",
    "\n",
    "#Add the grid lines and show the plot\n",
    "ax.grid(True, linestyle='--')\n",
    "plt.show()\n",
    "print(line)"
   ]
  },
  {
   "cell_type": "code",
   "execution_count": null,
   "metadata": {},
   "outputs": [],
   "source": [
    "#Extract the phi values at given cumul. freq. for calculations\n",
    "x=line[0:,0]\n",
    "y=line[0:,1]\n",
    "Phi_5p = np.interp(5, y, x).round(2)\n",
    "Phi_16p = np.interp(16, y, x).round(2)\n",
    "Phi_50p = np.interp(50, y, x).round(2)\n",
    "Phi_84p = np.interp(84, y, x).round(2)\n",
    "Phi_95p = np.interp(95, y, x).round(2)\n",
    "print(Phi_5p)\n",
    "print(Phi_16p)\n",
    "print(Phi_50p)\n",
    "print(Phi_84p)\n",
    "print(Phi_95p)"
   ]
  },
  {
   "cell_type": "code",
   "execution_count": null,
   "metadata": {},
   "outputs": [],
   "source": [
    "#Skewness based on the linear interpolation above\n",
    "\n",
    "Skn=((Phi_84p+Phi_16p-(2*Phi_50p))/(2*(Phi_84p-Phi_16p)))+((Phi_95p+Phi_5p-(2*Phi_50p))/(2*(Phi_95p-Phi_5p)))\n",
    "\n",
    "\n",
    "print(Skn.round(2))"
   ]
  },
  {
   "cell_type": "code",
   "execution_count": null,
   "metadata": {},
   "outputs": [],
   "source": [
    "#Verbal Skewness\n",
    "if Skn >0.3:\n",
    "    print(\"Strongly fine-skewed\")\n",
    "elif Skn >=0.1:\n",
    "    print(\"Fine skewed\")\n",
    "elif Skn >=-0.1:\n",
    "    print(\"Near symmetrical\")\n",
    "elif Skn >=-0.3:\n",
    "    print(\"Coarse skewed\")\n",
    "else:\n",
    "    print(\"Strongly coarse skewed\")\n",
    "        "
   ]
  },
  {
   "cell_type": "code",
   "execution_count": null,
   "metadata": {},
   "outputs": [],
   "source": [
    "#Mean\n",
    "\n",
    "Mz=(Phi_16p+Phi_50p+Phi_84p)/3\n",
    "print(Mz.round(2))"
   ]
  },
  {
   "cell_type": "code",
   "execution_count": null,
   "metadata": {},
   "outputs": [],
   "source": [
    "#standard deviation\n",
    "\n",
    "SD=((Phi_84p-Phi_16p)/4)+((Phi_95p-Phi_5p)/6.6)\n",
    "print(SD.round(2))"
   ]
  },
  {
   "cell_type": "code",
   "execution_count": null,
   "metadata": {},
   "outputs": [],
   "source": [
    "#Verbal SD\n",
    "if SD >4.00:\n",
    "    print(\"extremely poorly sorted\")\n",
    "elif SD >=2.0:\n",
    "    print(\"very poorly sorted\")\n",
    "elif SD >=1.00:\n",
    "    print(\"poorly sorted\")\n",
    "elif SD >=0.71:\n",
    "    print(\"moderately sorted\")\n",
    "elif SD >=0.50:\n",
    "    print(\"moderately well sorted\")\n",
    "elif SD >=0.35:\n",
    "    print(\"well sorted\")\n",
    "else:\n",
    "    print(\"very well sorted\")"
   ]
  },
  {
   "cell_type": "code",
   "execution_count": null,
   "metadata": {},
   "outputs": [],
   "source": [
    "#to get the default black frame\n",
    "plt.style.use('default') \n",
    "fig,ax = plt.subplots(figsize=(8,6))\n",
    "# Hide the right and top spines\n",
    "ax.spines['right'].set_visible(False)\n",
    "ax.spines['top'].set_visible(False)\n",
    "x_mid=df['phi_mid'].values\n",
    "\n",
    "\n",
    "#Make the bar plot\n",
    "ax.bar(x_mid, df['wt_freq'], color=('b'),  alpha=0.5, edgecolor='black', linewidth=1.2, width=0.5)   #alpha is for transparency\n",
    "ax.set_xlabel(r'phi ($\\phi$)', fontsize=16)\n",
    "ax.set_ylabel('Freq. (wt. %)', fontsize=16)\n",
    "\n",
    "#Add the points\n",
    "ax.scatter(x_mid, df['wt_freq'], c='red', marker='o')\n",
    "\n",
    "\n",
    "plt.show()\n"
   ]
  },
  {
   "cell_type": "code",
   "execution_count": null,
   "metadata": {},
   "outputs": [],
   "source": []
  }
 ],
 "metadata": {
  "kernelspec": {
   "display_name": "Python 3 (ipykernel)",
   "language": "python",
   "name": "python3"
  },
  "language_info": {
   "codemirror_mode": {
    "name": "ipython",
    "version": 3
   },
   "file_extension": ".py",
   "mimetype": "text/x-python",
   "name": "python",
   "nbconvert_exporter": "python",
   "pygments_lexer": "ipython3",
   "version": "3.8.12"
  }
 },
 "nbformat": 4,
 "nbformat_minor": 4
}
