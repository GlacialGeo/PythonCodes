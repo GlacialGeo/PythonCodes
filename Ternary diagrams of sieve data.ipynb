{
 "cells": [
  {
   "cell_type": "code",
   "execution_count": null,
   "id": "f8b34f6f",
   "metadata": {},
   "outputs": [],
   "source": [
    "import numpy as np\n",
    "import matplotlib.pyplot as plt\n",
    "import math\n",
    "import pandas as pd\n",
    "import ternary as te"
   ]
  },
  {
   "cell_type": "code",
   "execution_count": null,
   "id": "6706dd45",
   "metadata": {},
   "outputs": [],
   "source": [
    "# Load wt. frequency data\n",
    "allFreq = np.loadtxt(\"2021data.txt\", skiprows=2, usecols=np.arange(1, 10)).transpose()\n",
    "\n",
    "# Load grain sizes (in millimeters)\n",
    "grainSizesData = np.loadtxt('2021data.txt', skiprows=1, usecols=np.arange(0, 9), dtype='str')[0]\n",
    "\n",
    "# Create grain size labels and replace '<0.063' or 'pan' with '0.062'\n",
    "grainSizes = list(grainSizesData[:-1])\n",
    "grainSizes.append('0.062')\n",
    "\n",
    "# Load sample labels\n",
    "allLabels = np.loadtxt(\"2021data.txt\", skiprows=2, usecols=0, dtype='str')\n",
    "\n",
    "# Create DataFrame from the loaded data\n",
    "df = pd.DataFrame(data=allFreq, columns=allLabels)\n",
    "df.index = grainSizes\n",
    "\n",
    "# Transpose the DataFrame to have samples as rows and grain sizes as columns\n",
    "df = df.transpose()\n",
    "\n",
    "# Reset index to turn the index into a column\n",
    "df.reset_index(inplace=True)\n",
    "\n",
    "# Rename the first column to \"Sample ID\"\n",
    "df.rename(columns={'index': 'Sample ID'}, inplace=True)\n",
    "\n",
    "# Convert grain size labels to numerical values\n",
    "grain_sizes_numeric = [float(label) for label in grainSizes]\n",
    "\n",
    "# Identify columns for each particle size category\n",
    "gravel_columns = [df.columns[i+1] for i, size in enumerate(grain_sizes_numeric) if size >= 2]\n",
    "sand_columns = [df.columns[i+1] for i, size in enumerate(grain_sizes_numeric) if 0.063 <= size < 2]\n",
    "mud_column = [df.columns[i+1] for i, size in enumerate(grain_sizes_numeric) if size < 0.063]\n",
    "\n",
    "# Calculate total sum for each row\n",
    "df['Total'] = df[gravel_columns + sand_columns + mud_column].sum(axis=1)\n",
    "\n",
    "# Calculate percentages for each category\n",
    "df['Gravel percent'] = df[gravel_columns].sum(axis=1) / df['Total'] * 100\n",
    "df['Sand percent'] = df[sand_columns].sum(axis=1) / df['Total'] * 100\n",
    "df['Mud percent'] = df[mud_column].sum(axis=1) / df['Total'] * 100\n",
    "\n",
    "# Drop the 'Total' column as it was only needed for the calculation\n",
    "df.drop(columns=['Total'], inplace=True)\n",
    "\n",
    "# Display the DataFrame\n",
    "print(df)\n"
   ]
  },
  {
   "cell_type": "code",
   "execution_count": null,
   "id": "8d226cfa",
   "metadata": {},
   "outputs": [],
   "source": [
    "# Extract the percentage columns in the desired order for python-ternary and convert to NumPy array\n",
    "percentages_array = df[['Sand percent', 'Gravel percent', 'Mud percent']].to_numpy()\n",
    "\n",
    "# Display the NumPy array\n",
    "print(percentages_array)"
   ]
  },
  {
   "cell_type": "code",
   "execution_count": null,
   "id": "2d978d39",
   "metadata": {},
   "outputs": [],
   "source": [
    "#Creating a ternary diagram using python-ternary\n",
    "\n",
    "def Ternary(array, scale=100, show_labels=True):\n",
    "    figure, Texture = te.figure(scale=scale)\n",
    "    figure.set_size_inches(16, 14)\n",
    "    \n",
    "    # Plot data \n",
    "    Texture.scatter(percentages_array, marker='o', c='black')\n",
    "    \n",
    "    # Draw Boundary and Gridlines\n",
    "    Texture.boundary(linewidth=2.0)\n",
    "    Texture.gridlines(color=\"blue\", multiple=5)\n",
    "    \n",
    "    # Set Axis labels\n",
    "    fontsize = 12\n",
    "    offset = 0.2\n",
    "    Texture.right_corner_label(\"Sand\", fontsize=fontsize, weight='bold', offset=0)\n",
    "    Texture.top_corner_label(\"Gravel\", fontsize=fontsize, weight='bold', offset=0.2)\n",
    "    Texture.left_corner_label(\"Silt and clay\", fontsize=fontsize, weight='bold', offset=0)\n",
    "    \n",
    "    #This is to configure the style of the axes and ticks and specify their orientation/sense\n",
    "    Texture.ticks(axis='lbr', multiple=5, linewidth=1, offset=0.025, tick_formats=\"%.0f\", clockwise=False)\n",
    "    Texture.get_axes().axis('off')\n",
    "    Texture.clear_matplotlib_ticks()\n",
    "    \n",
    "    if show_labels:\n",
    "        # add labels to each point\n",
    "        label_offset = (5, 5)\n",
    "        label_fontsize = 12\n",
    "        labels=[]\n",
    "        for i, txt in enumerate(df['Sample ID']):\n",
    "            # Get the last four digits of the Sample ID using string slicing\n",
    "            sample_id = str(txt)[-3:]\n",
    "            #Annotate the point with the modified Sample ID\n",
    "            Texture.annotate(sample_id, (df['Sand percent'][i], df['Gravel percent'][i], df[\"Mud percent\"]), xytext=label_offset, textcoords='offset points', fontsize=label_fontsize)   \n",
    "            \n",
    "    Texture.show()"
   ]
  },
  {
   "cell_type": "code",
   "execution_count": null,
   "id": "e9560259",
   "metadata": {},
   "outputs": [],
   "source": [
    "Ternary(percentages_array, show_labels=True)"
   ]
  },
  {
   "cell_type": "code",
   "execution_count": null,
   "id": "ee277215",
   "metadata": {},
   "outputs": [],
   "source": [
    "#Another option using plotly\n",
    "\n",
    "import plotly.express as px\n",
    "\n",
    "fig = px.scatter_ternary(df, a=\"Gravel percent\", b=\"Mud percent\", c=\"Sand percent\")\n",
    "\n",
    "fig.show()"
   ]
  },
  {
   "cell_type": "code",
   "execution_count": null,
   "id": "c20e215d",
   "metadata": {},
   "outputs": [],
   "source": [
    "#A more simple ternary diagram\n",
    "\n",
    "import mpl_ternary as mplt #from https://marcoalopez.github.io/ternary_plots/"
   ]
  },
  {
   "cell_type": "code",
   "execution_count": null,
   "id": "2aa1ccf8",
   "metadata": {},
   "outputs": [],
   "source": [
    "# Extract the percentage columns for mpl_ternary and convert to NumPy array\n",
    "percentages_array_normal = df[['Gravel percent', 'Sand percent', 'Mud percent']].to_numpy()\n"
   ]
  },
  {
   "cell_type": "code",
   "execution_count": null,
   "id": "d8373bde",
   "metadata": {},
   "outputs": [],
   "source": [
    "# Normalize the data to lie between 0 and 1\n",
    "x, y = mplt.tri2cart(upper_apex=(percentages_array_normal[:,0]/100),\n",
    "                     right_apex=(percentages_array_normal[:,1]/100),\n",
    "                     left_apex=(percentages_array_normal[:,2]/100))\n",
    "\n",
    "# make the plot\n",
    "fig, ax = mplt.ternary(upper_label='Gravel',\n",
    "                       left_label='Mud',\n",
    "                       right_label='Sand')\n",
    "\n",
    "ax.plot(x, y, 'o', color='green', markersize=6)"
   ]
  },
  {
   "cell_type": "code",
   "execution_count": null,
   "id": "d33dfead",
   "metadata": {},
   "outputs": [],
   "source": []
  }
 ],
 "metadata": {
  "kernelspec": {
   "display_name": "Python 3 (ipykernel)",
   "language": "python",
   "name": "python3"
  },
  "language_info": {
   "codemirror_mode": {
    "name": "ipython",
    "version": 3
   },
   "file_extension": ".py",
   "mimetype": "text/x-python",
   "name": "python",
   "nbconvert_exporter": "python",
   "pygments_lexer": "ipython3",
   "version": "3.11.7"
  }
 },
 "nbformat": 4,
 "nbformat_minor": 5
}
